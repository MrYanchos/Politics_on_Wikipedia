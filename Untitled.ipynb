{
 "cells": [
  {
   "cell_type": "code",
   "execution_count": null,
   "metadata": {},
   "outputs": [],
   "source": [
    "from src.etl.get_anames import scrape_anames, retrieve_anames\n",
    "from src.etl.get_atexts import scrape_atexts, retrieve_atexts\n",
    "from src.models.get_gns_scores import get_stat_dict\n",
    "\n",
    "\n",
    "import numpy as np\n",
    "import pandas as pd\n",
    "import requests\n",
    "import os"
   ]
  },
  {
   "cell_type": "code",
   "execution_count": null,
   "metadata": {},
   "outputs": [],
   "source": [
    "# scrape_atexts()\n",
    "a = retrieve_atexts()"
   ]
  },
  {
   "cell_type": "code",
   "execution_count": null,
   "metadata": {},
   "outputs": [],
   "source": [
    "namestat_dict = get_stat_dict(a)"
   ]
  },
  {
   "cell_type": "code",
   "execution_count": null,
   "metadata": {},
   "outputs": [],
   "source": [
    "namestat_df = pd.DataFrame.from_dict(namestat_dict,orient=\"index\",columns=[\"absscore\",\"sumscore\",\"numwords\",\"counts_list\",\"totphrs\",\"is_intitle\"]).reset_index()\n",
    "\n",
    "def make_columns(df):\n",
    "    \n",
    "    def remove_top_words(x):\n",
    "        sum_five = 0\n",
    "        for tup in x[\"counts_list\"]:\n",
    "            nums = tup[1]\n",
    "            sum_five += nums[0] * nums[1]\n",
    "#         print(x[\"index\"], sum_five)\n",
    "        return x[\"sumscore\"] - sum_five\n",
    "\n",
    "    df[\"sum_cut\"] = df.apply(remove_top_words, axis=1)\n",
    "    \n",
    "    df[\"abs_by_num\"] = df[\"absscore\"] / df[\"numwords\"]\n",
    "    df[\"sum_by_num\"] = df[\"sumscore\"] / df[\"numwords\"]\n",
    "    df[\"scbn\"] = df[\"sum_cut\"] / df[\"numwords\"]\n",
    "    df_reset = df.reset_index().rename({\"level_0\":\"popularity\"}, axis=1)\n",
    "#     abs_rank = df_reset.sort_values(by=\"absscore\", ascending=False).reset_index()[\"level_0\"]\n",
    "#     sum_rank = df_reset.sort_values(by=\"sumscore\", ascending=False).reset_index()[\"level_0\"]\n",
    "#     abn_rank = df_reset.sort_values(by=\"abs_by_num\", ascending=False).reset_index()[\"level_0\"]\n",
    "#     sbn_rank = df_reset.sort_values(by=\"sum_by_num\", ascending=False).reset_index()[\"level_0\"]\n",
    "#     df[\"abs_rank_diff\"] = abs_rank - abn_rank\n",
    "#     df[\"sum_rank_diff\"] = sum_rank - sbn_rank\n",
    "#     df[\"abs_rank\"] = abs_rank\n",
    "#     df[\"sum_rank\"] = sum_rank\n",
    "#     df[\"abn_rank\"] = abn_rank\n",
    "#     df[\"sbn_rank\"] = sbn_rank\n",
    "    df[\"popularity\"] = df_reset[\"popularity\"]\n",
    "    return df\n",
    "    \n",
    "    \n",
    "    \n",
    "    \n",
    "    \n",
    "nsdf = make_columns(namestat_df)\n",
    "nsdf[\"sumscoreabs\"] = abs(nsdf[\"sumscore\"])"
   ]
  },
  {
   "cell_type": "code",
   "execution_count": null,
   "metadata": {},
   "outputs": [],
   "source": [
    "def sum_freq(x):\n",
    "    sum = 0\n",
    "    for i in x:\n",
    "        sum += i[1][0]\n",
    "    return sum\n",
    "\n",
    "nsdf[\"mf\"] = nsdf[\"counts_list\"].apply(sum_freq)"
   ]
  },
  {
   "cell_type": "code",
   "execution_count": null,
   "metadata": {},
   "outputs": [],
   "source": [
    "nsdf.sort_values(\"mf\", ascending=False)"
   ]
  },
  {
   "cell_type": "code",
   "execution_count": null,
   "metadata": {},
   "outputs": [],
   "source": [
    "nsdf.iloc[206][\"counts_list\"]"
   ]
  },
  {
   "cell_type": "code",
   "execution_count": null,
   "metadata": {},
   "outputs": [],
   "source": [
    "nsdf[\"scbna\"] = abs(nsdf[\"scbn\"])\n",
    "nsdf.sort_values(\"scbna\")"
   ]
  },
  {
   "cell_type": "code",
   "execution_count": null,
   "metadata": {},
   "outputs": [],
   "source": [
    "nsdf.sort_values(\"scbn\", ascending=False)"
   ]
  },
  {
   "cell_type": "code",
   "execution_count": null,
   "metadata": {},
   "outputs": [],
   "source": [
    "nsdf.sort_values(\"scbn\", ascending=True)"
   ]
  },
  {
   "cell_type": "code",
   "execution_count": null,
   "metadata": {},
   "outputs": [],
   "source": []
  },
  {
   "cell_type": "code",
   "execution_count": null,
   "metadata": {},
   "outputs": [],
   "source": []
  },
  {
   "cell_type": "code",
   "execution_count": null,
   "metadata": {},
   "outputs": [],
   "source": [
    "for_hist = [\"Era of Good Feelings\", \"Late-night talk show\", \"James K. Polk\", \"Jim Acosta\", \"Separation of church and state in the United States\", \"Mueller report\", \"Justice Democrats\",\"Tammy Baldwin\",\"Democratic Party (United States)\"]\n",
    "for_hist_und = [\"_\".join(i.split()) for i in for_hist]\n",
    "exp_base = \"https://en.wikipedia.org/w/index.php?title=Special:Export&pages=\"\n",
    "exp_end = \"&history=1&action=submit\"\n",
    "xml_base = 'src/data/temp/wiki_xmls/'\n",
    "\n",
    "if not os.path.exists(xml_base):\n",
    "    os.makedirs(xml_base)\n",
    "    \n",
    "\n",
    "cnt = 1\n",
    "for tit in for_hist_und:\n",
    "    url = exp_base + tit + exp_end\n",
    "    resp = requests.get(url)\n",
    "    \n",
    "    with open(xml_base + tit + \".xml\", mode = \"wb\") as wfile:\n",
    "        wfile.write(resp.content)\n",
    "        \n",
    "    resp.close()\n",
    "    print(str(cnt) + \" processed\")\n",
    "    cnt += 1"
   ]
  },
  {
   "cell_type": "code",
   "execution_count": null,
   "metadata": {},
   "outputs": [],
   "source": []
  },
  {
   "cell_type": "code",
   "execution_count": null,
   "metadata": {},
   "outputs": [],
   "source": [
    "URL = \"https://www.mediawiki.org/w/api.php\"\n",
    "\n",
    "PARAMS = {\n",
    "    \"action\": \"query\",\n",
    "    \"prop\": \"revisions\",\n",
    "    \"titles\": \"Wikipedia\",\n",
    "    \"rvprop\": \"flags|timestamp|user|comment|content\",\n",
    "    \"rvslots\": \"*\",\n",
    "    \"formatversion\": \"2\",\n",
    "    \"format\": \"json\"\n",
    "}\n",
    "\n",
    "R = requests.get(url=URL, params=PARAMS)\n",
    "DATA = R.json()\n",
    "\n",
    "PAGES = DATA[\"query\"][\"pages\"]"
   ]
  },
  {
   "cell_type": "code",
   "execution_count": null,
   "metadata": {},
   "outputs": [],
   "source": [
    "DATA"
   ]
  },
  {
   "cell_type": "code",
   "execution_count": null,
   "metadata": {},
   "outputs": [],
   "source": [
    "S = requests.Session()\n",
    "\n",
    "URL = \"https://www.mediawiki.org/w/api.php\"\n",
    "\n",
    "PARAMS = {\n",
    "    \"action\": \"query\",\n",
    "    \"prop\": \"revisions\",\n",
    "    \"titles\": \"Joe Biden\",\n",
    "    \"rvprop\": \"flags|timestamp|user|comment|content\",\n",
    "    \"rvslots\": \"*\",\n",
    "    \"formatversion\": \"2\",\n",
    "    \"format\": \"json\"\n",
    "}\n",
    "\n",
    "R = S.get(url=URL, params=PARAMS)\n",
    "DATA = R.json()\n",
    "\n",
    "PAGES = DATA[\"query\"][\"pages\"]\n",
    "\n",
    "# for page in PAGES:\n",
    "#     print(page[\"revisions\"])\n",
    "DATA"
   ]
  },
  {
   "cell_type": "code",
   "execution_count": null,
   "metadata": {},
   "outputs": [],
   "source": [
    "DATA"
   ]
  },
  {
   "cell_type": "code",
   "execution_count": null,
   "metadata": {},
   "outputs": [],
   "source": [
    "alist[3]"
   ]
  },
  {
   "cell_type": "code",
   "execution_count": null,
   "metadata": {},
   "outputs": [],
   "source": []
  },
  {
   "cell_type": "code",
   "execution_count": null,
   "metadata": {},
   "outputs": [],
   "source": []
  },
  {
   "cell_type": "code",
   "execution_count": null,
   "metadata": {},
   "outputs": [],
   "source": []
  }
 ],
 "metadata": {
  "kernelspec": {
   "display_name": "Python 3",
   "language": "python",
   "name": "python3"
  },
  "language_info": {
   "codemirror_mode": {
    "name": "ipython",
    "version": 3
   },
   "file_extension": ".py",
   "mimetype": "text/x-python",
   "name": "python",
   "nbconvert_exporter": "python",
   "pygments_lexer": "ipython3",
   "version": "3.7.4"
  }
 },
 "nbformat": 4,
 "nbformat_minor": 2
}
