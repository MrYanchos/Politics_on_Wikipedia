{
 "cells": [
  {
   "cell_type": "code",
   "execution_count": null,
   "metadata": {},
   "outputs": [],
   "source": [
    "import pickle\n",
    "import nltk\n",
    "from nltk import RegexpTokenizer\n",
    "from nltk import stem\n",
    "from nltk.corpus import stopwords\n",
    "import string\n",
    "import src.data.full_ibc.treeUtil as treeUtil"
   ]
  },
  {
   "cell_type": "code",
   "execution_count": null,
   "metadata": {},
   "outputs": [],
   "source": [
    "%run -i \"src/data/full_ibc/loadIBC.py\""
   ]
  },
  {
   "cell_type": "code",
   "execution_count": null,
   "metadata": {},
   "outputs": [],
   "source": [
    "[lib, con, neutral] = pickle.load(open('src/data/full_ibc/ibcData.pkl', 'rb'))"
   ]
  },
  {
   "cell_type": "code",
   "execution_count": null,
   "metadata": {},
   "outputs": [],
   "source": [
    "# Parse IBC into lists for each bias type (liberal, conservative, neutral)\n",
    "\n",
    "liblist = []\n",
    "for tree in lib:\n",
    "    liblist.append(tree.get_words())\n",
    "    \n",
    "conlist = []\n",
    "for tree in con:\n",
    "    conlist.append(tree.get_words())\n",
    "    \n",
    "neutlist = []\n",
    "for tree in neutral:\n",
    "    neutlist.append(tree.get_words())"
   ]
  },
  {
   "cell_type": "code",
   "execution_count": null,
   "metadata": {},
   "outputs": [],
   "source": [
    "# RUN THE FOLLOWING ONLY THE FIRST RUNTHRU\n",
    "\n",
    "# nltk.download(\"wordnet\")\n",
    "# nltk.download(\"stopwords\")"
   ]
  },
  {
   "cell_type": "code",
   "execution_count": null,
   "metadata": {},
   "outputs": [],
   "source": [
    "# IBC pre-processing, lowercase, removing punctuation and stop-words, stemming\n",
    "def process_sentlist(sentlist):\n",
    "    proc_sentlist = []\n",
    "    for item in sentlist:\n",
    "        # Lowercase and remove punctuation\n",
    "        curstr = item.lower().translate(str.maketrans('', '', string.punctuation))\n",
    "\n",
    "        plst = []\n",
    "        for wrd in curstr.split():\n",
    "            # Check for stopwords\n",
    "            if wrd not in stpwrds:\n",
    "                # Stem the word\n",
    "                pwrd = porter.stem(wrd)\n",
    "\n",
    "                # Put the stemmed word in the reverse-stemming dictionary\n",
    "                if pwrd not in stem_rev.keys():\n",
    "                    stem_rev[pwrd] = [wrd]\n",
    "                elif wrd not in stem_rev[pwrd]:\n",
    "                    stem_rev[pwrd].append(wrd)\n",
    "\n",
    "                plst.append(pwrd)\n",
    "\n",
    "        curstr = ' '.join(plst)\n",
    "        proc_sentlist.append(curstr)\n",
    "    return proc_sentlist\n",
    "\n",
    "\n",
    "# Dictionary for reverse-stemming\n",
    "stem_rev = {}\n",
    "# Get list of stopwords\n",
    "stpwrds = stopwords.words(\"english\")\n",
    "porter = stem.PorterStemmer()\n",
    "\n",
    "\n",
    "proc_liblist = process_sentlist(liblist)\n",
    "proc_conlist = process_sentlist(conlist)\n",
    "proc_neutlist = process_sentlist(neutlist)   "
   ]
  },
  {
   "cell_type": "code",
   "execution_count": null,
   "metadata": {},
   "outputs": [],
   "source": []
  }
 ],
 "metadata": {
  "kernelspec": {
   "display_name": "Python 3",
   "language": "python",
   "name": "python3"
  },
  "language_info": {
   "codemirror_mode": {
    "name": "ipython",
    "version": 3
   },
   "file_extension": ".py",
   "mimetype": "text/x-python",
   "name": "python",
   "nbconvert_exporter": "python",
   "pygments_lexer": "ipython3",
   "version": "3.7.4"
  }
 },
 "nbformat": 4,
 "nbformat_minor": 2
}
