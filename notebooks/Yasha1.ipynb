{
 "cells": [
  {
   "cell_type": "code",
   "execution_count": 14,
   "metadata": {},
   "outputs": [],
   "source": [
    "import py7zr as pz\n",
    "import requests\n",
    "from bs4 import BeautifulSoup\n",
    "from src.libcode import list_to_txt, txt_to_list\n",
    "import io"
   ]
  },
  {
   "cell_type": "code",
   "execution_count": 15,
   "metadata": {},
   "outputs": [],
   "source": [
    "def download_unzip(link):\n",
    "    resp = requests.get(i, stream=True)\n",
    "    z = pz.SevenZipFile(io.BytesIO(resp.content))\n",
    "    z.extractall(\"src/data\")\n",
    "#     with pz.SevenZipFile('src/data/' + fname, mode='r') as z:\n",
    "#         z.extractall(\"src/data\")\n"
   ]
  },
  {
   "cell_type": "code",
   "execution_count": 16,
   "metadata": {},
   "outputs": [],
   "source": [
    "def scrape_links(fname=\"dumps_links.txt\"):\n",
    "    resp = requests.get(\"https://dumps.wikimedia.org/enwiki/20210101/\")\n",
    "    dump_soup = BeautifulSoup(resp.text)\n",
    "    dumps_base = \"https://dumps.wikimedia.org\"\n",
    "    link_list = []\n",
    "    for i in dump_soup.find_all(\"a\"):\n",
    "        if \"pages-meta-history\" in i.text and \".7z\" in i.text:\n",
    "            link_list.append(dumps_base + i[\"href\"])\n",
    "    list_to_txt(fname, link_list)\n",
    "    \n",
    "def retrieve_links(fname = \"dumps_links.txt\"):\n",
    "    return txt_to_list(fname)"
   ]
  },
  {
   "cell_type": "code",
   "execution_count": 17,
   "metadata": {},
   "outputs": [],
   "source": [
    "link_list = retrieve_links()"
   ]
  },
  {
   "cell_type": "code",
   "execution_count": 18,
   "metadata": {},
   "outputs": [],
   "source": [
    "download_unzip(link_list[0])"
   ]
  },
  {
   "cell_type": "code",
   "execution_count": 25,
   "metadata": {},
   "outputs": [
    {
     "data": {
      "text/plain": [
       "type"
      ]
     },
     "execution_count": 25,
     "metadata": {},
     "output_type": "execute_result"
    }
   ],
   "source": []
  },
  {
   "cell_type": "code",
   "execution_count": null,
   "metadata": {},
   "outputs": [],
   "source": []
  }
 ],
 "metadata": {
  "kernelspec": {
   "display_name": "Python 3",
   "language": "python",
   "name": "python3"
  },
  "language_info": {
   "codemirror_mode": {
    "name": "ipython",
    "version": 3
   },
   "file_extension": ".py",
   "mimetype": "text/x-python",
   "name": "python",
   "nbconvert_exporter": "python",
   "pygments_lexer": "ipython3",
   "version": "3.7.6"
  }
 },
 "nbformat": 4,
 "nbformat_minor": 2
}
